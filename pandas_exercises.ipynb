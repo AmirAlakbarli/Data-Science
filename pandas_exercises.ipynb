{
 "cells": [
  {
   "cell_type": "markdown",
   "id": "5b3f25e1",
   "metadata": {},
   "source": [
    "#### 1. Import pandas and check the version"
   ]
  },
  {
   "cell_type": "code",
   "execution_count": 1,
   "id": "5d5aba14",
   "metadata": {},
   "outputs": [
    {
     "data": {
      "text/plain": [
       "'1.4.2'"
      ]
     },
     "execution_count": 1,
     "metadata": {},
     "output_type": "execute_result"
    }
   ],
   "source": [
    "import numpy as np\n",
    "import pandas as pd\n",
    "pd.__version__"
   ]
  },
  {
   "cell_type": "markdown",
   "id": "f4394b42",
   "metadata": {},
   "source": [
    "#### 2. Create a pandas series from each of the items below: a list, numpy and a dictionary"
   ]
  },
  {
   "cell_type": "code",
   "execution_count": 2,
   "id": "4e26fd5b",
   "metadata": {},
   "outputs": [
    {
     "data": {
      "text/plain": [
       "a    1\n",
       "b    2\n",
       "c    3\n",
       "dtype: int32"
      ]
     },
     "execution_count": 2,
     "metadata": {},
     "output_type": "execute_result"
    }
   ],
   "source": [
    "a = np.array([1,2,3])\n",
    "pd.Series(a,index=[\"a\",\"b\",\"c\"])"
   ]
  },
  {
   "cell_type": "code",
   "execution_count": 3,
   "id": "3a145028",
   "metadata": {},
   "outputs": [
    {
     "data": {
      "text/plain": [
       "1    a\n",
       "2    b\n",
       "3    c\n",
       "dtype: object"
      ]
     },
     "execution_count": 3,
     "metadata": {},
     "output_type": "execute_result"
    }
   ],
   "source": [
    "a = ['a','b','c']\n",
    "pd.Series(a,index=[1,2,3])"
   ]
  },
  {
   "cell_type": "code",
   "execution_count": 4,
   "id": "7b80ca28",
   "metadata": {},
   "outputs": [
    {
     "data": {
      "text/plain": [
       "man1       {'name': 'Amir', 'age': 19}\n",
       "man2    {'name': 'Khagani', 'age': 20}\n",
       "dtype: object"
      ]
     },
     "execution_count": 4,
     "metadata": {},
     "output_type": "execute_result"
    }
   ],
   "source": [
    "a = [{\"name\":\"Amir\",\"age\":19},{\"name\":\"Khagani\", \"age\":20}]\n",
    "a\n",
    "pd.Series(a,index=[\"man1\",\"man2\"])"
   ]
  },
  {
   "cell_type": "markdown",
   "id": "9561355e",
   "metadata": {},
   "source": [
    "#### 3. Convert the series ser into a dataframe with its index as another column on the dataframe"
   ]
  },
  {
   "cell_type": "code",
   "execution_count": 5,
   "id": "ca4b2c90",
   "metadata": {},
   "outputs": [
    {
     "data": {
      "text/html": [
       "<div>\n",
       "<style scoped>\n",
       "    .dataframe tbody tr th:only-of-type {\n",
       "        vertical-align: middle;\n",
       "    }\n",
       "\n",
       "    .dataframe tbody tr th {\n",
       "        vertical-align: top;\n",
       "    }\n",
       "\n",
       "    .dataframe thead th {\n",
       "        text-align: right;\n",
       "    }\n",
       "</style>\n",
       "<table border=\"1\" class=\"dataframe\">\n",
       "  <thead>\n",
       "    <tr style=\"text-align: right;\">\n",
       "      <th></th>\n",
       "      <th>a</th>\n",
       "      <th>b</th>\n",
       "      <th>c</th>\n",
       "      <th>e</th>\n",
       "      <th>d</th>\n",
       "      <th>f</th>\n",
       "      <th>g</th>\n",
       "      <th>h</th>\n",
       "      <th>i</th>\n",
       "      <th>j</th>\n",
       "      <th>...</th>\n",
       "      <th>q</th>\n",
       "      <th>r</th>\n",
       "      <th>s</th>\n",
       "      <th>t</th>\n",
       "      <th>u</th>\n",
       "      <th>v</th>\n",
       "      <th>w</th>\n",
       "      <th>x</th>\n",
       "      <th>y</th>\n",
       "      <th>z</th>\n",
       "    </tr>\n",
       "  </thead>\n",
       "  <tbody>\n",
       "    <tr>\n",
       "      <th>0</th>\n",
       "      <td>0</td>\n",
       "      <td>1</td>\n",
       "      <td>2</td>\n",
       "      <td>3</td>\n",
       "      <td>4</td>\n",
       "      <td>5</td>\n",
       "      <td>6</td>\n",
       "      <td>7</td>\n",
       "      <td>8</td>\n",
       "      <td>9</td>\n",
       "      <td>...</td>\n",
       "      <td>16</td>\n",
       "      <td>17</td>\n",
       "      <td>18</td>\n",
       "      <td>19</td>\n",
       "      <td>20</td>\n",
       "      <td>21</td>\n",
       "      <td>22</td>\n",
       "      <td>23</td>\n",
       "      <td>24</td>\n",
       "      <td>25</td>\n",
       "    </tr>\n",
       "  </tbody>\n",
       "</table>\n",
       "<p>1 rows × 26 columns</p>\n",
       "</div>"
      ],
      "text/plain": [
       "   a  b  c  e  d  f  g  h  i  j  ...   q   r   s   t   u   v   w   x   y   z\n",
       "0  0  1  2  3  4  5  6  7  8  9  ...  16  17  18  19  20  21  22  23  24  25\n",
       "\n",
       "[1 rows x 26 columns]"
      ]
     },
     "execution_count": 5,
     "metadata": {},
     "output_type": "execute_result"
    }
   ],
   "source": [
    "mylist = list('abcedfghijklmnopqrstuvwxyz')\n",
    "myarr = np.arange(26)\n",
    "mydict = dict(zip(mylist, myarr))\n",
    "ser = pd.Series(mydict)\n",
    "pd.DataFrame(ser).T"
   ]
  },
  {
   "cell_type": "markdown",
   "id": "a263d7da",
   "metadata": {},
   "source": [
    "#### 4. Combine ser1 and ser2 to form a dataframe"
   ]
  },
  {
   "cell_type": "code",
   "execution_count": 6,
   "id": "0df0726d",
   "metadata": {},
   "outputs": [
    {
     "data": {
      "text/html": [
       "<div>\n",
       "<style scoped>\n",
       "    .dataframe tbody tr th:only-of-type {\n",
       "        vertical-align: middle;\n",
       "    }\n",
       "\n",
       "    .dataframe tbody tr th {\n",
       "        vertical-align: top;\n",
       "    }\n",
       "\n",
       "    .dataframe thead th {\n",
       "        text-align: right;\n",
       "    }\n",
       "</style>\n",
       "<table border=\"1\" class=\"dataframe\">\n",
       "  <thead>\n",
       "    <tr style=\"text-align: right;\">\n",
       "      <th></th>\n",
       "      <th>0</th>\n",
       "      <th>1</th>\n",
       "      <th>2</th>\n",
       "      <th>3</th>\n",
       "      <th>4</th>\n",
       "      <th>5</th>\n",
       "      <th>6</th>\n",
       "      <th>7</th>\n",
       "      <th>8</th>\n",
       "      <th>9</th>\n",
       "      <th>...</th>\n",
       "      <th>16</th>\n",
       "      <th>17</th>\n",
       "      <th>18</th>\n",
       "      <th>19</th>\n",
       "      <th>20</th>\n",
       "      <th>21</th>\n",
       "      <th>22</th>\n",
       "      <th>23</th>\n",
       "      <th>24</th>\n",
       "      <th>25</th>\n",
       "    </tr>\n",
       "  </thead>\n",
       "  <tbody>\n",
       "    <tr>\n",
       "      <th>0</th>\n",
       "      <td>a</td>\n",
       "      <td>b</td>\n",
       "      <td>c</td>\n",
       "      <td>e</td>\n",
       "      <td>d</td>\n",
       "      <td>f</td>\n",
       "      <td>g</td>\n",
       "      <td>h</td>\n",
       "      <td>i</td>\n",
       "      <td>j</td>\n",
       "      <td>...</td>\n",
       "      <td>q</td>\n",
       "      <td>r</td>\n",
       "      <td>s</td>\n",
       "      <td>t</td>\n",
       "      <td>u</td>\n",
       "      <td>v</td>\n",
       "      <td>w</td>\n",
       "      <td>x</td>\n",
       "      <td>y</td>\n",
       "      <td>z</td>\n",
       "    </tr>\n",
       "  </tbody>\n",
       "</table>\n",
       "<p>1 rows × 26 columns</p>\n",
       "</div>"
      ],
      "text/plain": [
       "  0  1  2  3  4  5  6  7  8  9   ... 16 17 18 19 20 21 22 23 24 25\n",
       "0  a  b  c  e  d  f  g  h  i  j  ...  q  r  s  t  u  v  w  x  y  z\n",
       "\n",
       "[1 rows x 26 columns]"
      ]
     },
     "execution_count": 6,
     "metadata": {},
     "output_type": "execute_result"
    }
   ],
   "source": [
    "import numpy as np\n",
    "ser1 = pd.Series(list('abcedfghijklmnopqrstuvwxyz'))\n",
    "ser2 = pd.Series(np.arange(26))\n",
    "pd.DataFrame(ser1,index=ser2).T"
   ]
  },
  {
   "cell_type": "markdown",
   "id": "01ff0058",
   "metadata": {},
   "source": [
    "#### 5. Give a name to the series ser calling it ‘alphabets’"
   ]
  },
  {
   "cell_type": "code",
   "execution_count": 7,
   "id": "8a844b55",
   "metadata": {
    "scrolled": true
   },
   "outputs": [
    {
     "data": {
      "text/plain": [
       "0     a\n",
       "1     b\n",
       "2     c\n",
       "3     e\n",
       "4     d\n",
       "5     f\n",
       "6     g\n",
       "7     h\n",
       "8     i\n",
       "9     j\n",
       "10    k\n",
       "11    l\n",
       "12    m\n",
       "13    n\n",
       "14    o\n",
       "15    p\n",
       "16    q\n",
       "17    r\n",
       "18    s\n",
       "19    t\n",
       "20    u\n",
       "21    v\n",
       "22    w\n",
       "23    x\n",
       "24    y\n",
       "25    z\n",
       "Name: alphabets, dtype: object"
      ]
     },
     "execution_count": 7,
     "metadata": {},
     "output_type": "execute_result"
    }
   ],
   "source": [
    "ser = pd.Series(list('abcedfghijklmnopqrstuvwxyz'),name='alphabets')\n",
    "ser"
   ]
  },
  {
   "cell_type": "markdown",
   "id": "54c24b45",
   "metadata": {},
   "source": [
    "#### 6. From ser1 remove items present in ser2"
   ]
  },
  {
   "cell_type": "code",
   "execution_count": 8,
   "id": "dae4e3bb",
   "metadata": {
    "scrolled": true
   },
   "outputs": [
    {
     "name": "stdout",
     "output_type": "stream",
     "text": [
      "[1, 2, 3]\n"
     ]
    }
   ],
   "source": [
    "ser1 = pd.Series([1, 2, 3, 4, 5])\n",
    "ser2 = pd.Series([4, 5, 6, 7, 8])\n",
    "a = pd.Series(list(set(ser1).intersection(set(ser2))))\n",
    "res = ser1[~np.isin(ser1, ser2)]\n",
    "print(list(res))"
   ]
  },
  {
   "cell_type": "markdown",
   "id": "1deee3ce",
   "metadata": {},
   "source": [
    "#### 7. Get all items of ser1 and ser2 not common to both"
   ]
  },
  {
   "cell_type": "code",
   "execution_count": 9,
   "id": "34d06561",
   "metadata": {},
   "outputs": [
    {
     "data": {
      "text/plain": [
       "array([1, 2, 3, 6, 7, 8], dtype=int64)"
      ]
     },
     "execution_count": 9,
     "metadata": {},
     "output_type": "execute_result"
    }
   ],
   "source": [
    "ser1 = pd.Series([1, 2, 3, 4, 5])\n",
    "ser2 = pd.Series([4, 5, 6, 7, 8])\n",
    "union = np.union1d(ser1,ser2)\n",
    "intersection = np.intersect1d(ser1,ser2)\n",
    "subtract = np.isin(union,intersection)\n",
    "res = union[~subtract]\n",
    "res"
   ]
  },
  {
   "cell_type": "markdown",
   "id": "ff1adf6c",
   "metadata": {},
   "source": [
    "#### 8. Compute the minimum, 25th percentile, median, 75th, and maximum of ser"
   ]
  },
  {
   "cell_type": "code",
   "execution_count": 10,
   "id": "107707bf",
   "metadata": {},
   "outputs": [
    {
     "name": "stdout",
     "output_type": "stream",
     "text": [
      "-4.144092594500041\n",
      "6.131894593971666\n",
      "9.241186866135044\n",
      "12.02974611813686\n",
      "17.346762287764868\n"
     ]
    }
   ],
   "source": [
    "ser = pd.Series(np.random.normal(10, 5, 25))\n",
    "print(ser.min(),np.percentile(ser, 25),np.median(ser),np.percentile(ser, 75),ser.max(),sep=\"\\n\")"
   ]
  },
  {
   "cell_type": "markdown",
   "id": "1323140d",
   "metadata": {},
   "source": [
    "#### 9. Calculte the frequency counts of each unique value ser"
   ]
  },
  {
   "cell_type": "code",
   "execution_count": 11,
   "id": "3b416ed2",
   "metadata": {},
   "outputs": [
    {
     "data": {
      "text/plain": [
       "{'c': 7, 'e': 6, 'a': 4, 'g': 4, 'b': 3, 'f': 3, 'd': 2, 'h': 1}"
      ]
     },
     "execution_count": 11,
     "metadata": {},
     "output_type": "execute_result"
    }
   ],
   "source": [
    "ser = pd.Series(np.take(list('abcdefgh'), np.random.randint(8, size=30)))\n",
    "counts = ser.value_counts().to_dict()\n",
    "counts"
   ]
  },
  {
   "cell_type": "markdown",
   "id": "a1fc20ff",
   "metadata": {},
   "source": [
    "#### 10. From ser, keep the top 2 most frequent items as it is and replace everything else as ‘Other’"
   ]
  },
  {
   "cell_type": "code",
   "execution_count": 12,
   "id": "bca6b385",
   "metadata": {},
   "outputs": [
    {
     "data": {
      "text/plain": [
       "0         3\n",
       "1         1\n",
       "2         1\n",
       "3         1\n",
       "4         1\n",
       "5         1\n",
       "6         3\n",
       "7         3\n",
       "8     Other\n",
       "9         3\n",
       "10    Other\n",
       "11        3\n",
       "dtype: object"
      ]
     },
     "execution_count": 12,
     "metadata": {},
     "output_type": "execute_result"
    }
   ],
   "source": [
    "np.random.RandomState(100)\n",
    "ser = pd.Series(np.random.randint(1, 5, [12]))\n",
    "ser[~ser.isin(ser.value_counts().index[:2])] = 'Other'\n",
    "ser"
   ]
  },
  {
   "cell_type": "markdown",
   "id": "a246e252",
   "metadata": {},
   "source": [
    "#### 11. Bin the series ser into 10 equal deciles and replace the values with the bin name"
   ]
  },
  {
   "cell_type": "code",
   "execution_count": 13,
   "id": "d985a838",
   "metadata": {},
   "outputs": [
    {
     "data": {
      "text/plain": [
       "0                    (0.289, 0.331]\n",
       "1                    (0.626, 0.857]\n",
       "2                    (0.586, 0.626]\n",
       "3                    (0.586, 0.626]\n",
       "4                    (0.163, 0.258]\n",
       "5     (0.013600000000000001, 0.163]\n",
       "6                    (0.466, 0.543]\n",
       "7                    (0.163, 0.258]\n",
       "8                    (0.857, 0.919]\n",
       "9                    (0.331, 0.466]\n",
       "10    (0.013600000000000001, 0.163]\n",
       "11                   (0.543, 0.586]\n",
       "12                   (0.258, 0.289]\n",
       "13                   (0.258, 0.289]\n",
       "14                   (0.466, 0.543]\n",
       "15                   (0.289, 0.331]\n",
       "16                   (0.543, 0.586]\n",
       "17                   (0.331, 0.466]\n",
       "18                   (0.857, 0.919]\n",
       "19                   (0.626, 0.857]\n",
       "dtype: category\n",
       "Categories (10, interval[float64, right]): [(0.013600000000000001, 0.163] < (0.163, 0.258] < (0.258, 0.289] < (0.289, 0.331] ... (0.543, 0.586] < (0.586, 0.626] < (0.626, 0.857] < (0.857, 0.919]]"
      ]
     },
     "execution_count": 13,
     "metadata": {},
     "output_type": "execute_result"
    }
   ],
   "source": [
    "ser = pd.Series(np.random.random(20))\n",
    "pd.qcut(ser, q=10)"
   ]
  },
  {
   "cell_type": "markdown",
   "id": "912f2a38",
   "metadata": {},
   "source": [
    "#### 12. Reshape the series ser into a dataframe with 7 rows and 5 columns"
   ]
  },
  {
   "cell_type": "code",
   "execution_count": 14,
   "id": "1ea6f6ab",
   "metadata": {},
   "outputs": [
    {
     "data": {
      "text/html": [
       "<div>\n",
       "<style scoped>\n",
       "    .dataframe tbody tr th:only-of-type {\n",
       "        vertical-align: middle;\n",
       "    }\n",
       "\n",
       "    .dataframe tbody tr th {\n",
       "        vertical-align: top;\n",
       "    }\n",
       "\n",
       "    .dataframe thead th {\n",
       "        text-align: right;\n",
       "    }\n",
       "</style>\n",
       "<table border=\"1\" class=\"dataframe\">\n",
       "  <thead>\n",
       "    <tr style=\"text-align: right;\">\n",
       "      <th></th>\n",
       "      <th>0</th>\n",
       "      <th>1</th>\n",
       "      <th>2</th>\n",
       "      <th>3</th>\n",
       "      <th>4</th>\n",
       "    </tr>\n",
       "  </thead>\n",
       "  <tbody>\n",
       "    <tr>\n",
       "      <th>0</th>\n",
       "      <td>5</td>\n",
       "      <td>5</td>\n",
       "      <td>9</td>\n",
       "      <td>9</td>\n",
       "      <td>2</td>\n",
       "    </tr>\n",
       "    <tr>\n",
       "      <th>1</th>\n",
       "      <td>1</td>\n",
       "      <td>5</td>\n",
       "      <td>1</td>\n",
       "      <td>7</td>\n",
       "      <td>6</td>\n",
       "    </tr>\n",
       "    <tr>\n",
       "      <th>2</th>\n",
       "      <td>5</td>\n",
       "      <td>5</td>\n",
       "      <td>9</td>\n",
       "      <td>5</td>\n",
       "      <td>8</td>\n",
       "    </tr>\n",
       "    <tr>\n",
       "      <th>3</th>\n",
       "      <td>8</td>\n",
       "      <td>6</td>\n",
       "      <td>6</td>\n",
       "      <td>7</td>\n",
       "      <td>8</td>\n",
       "    </tr>\n",
       "    <tr>\n",
       "      <th>4</th>\n",
       "      <td>1</td>\n",
       "      <td>1</td>\n",
       "      <td>7</td>\n",
       "      <td>6</td>\n",
       "      <td>6</td>\n",
       "    </tr>\n",
       "    <tr>\n",
       "      <th>5</th>\n",
       "      <td>8</td>\n",
       "      <td>9</td>\n",
       "      <td>5</td>\n",
       "      <td>4</td>\n",
       "      <td>5</td>\n",
       "    </tr>\n",
       "    <tr>\n",
       "      <th>6</th>\n",
       "      <td>8</td>\n",
       "      <td>3</td>\n",
       "      <td>9</td>\n",
       "      <td>5</td>\n",
       "      <td>8</td>\n",
       "    </tr>\n",
       "  </tbody>\n",
       "</table>\n",
       "</div>"
      ],
      "text/plain": [
       "   0  1  2  3  4\n",
       "0  5  5  9  9  2\n",
       "1  1  5  1  7  6\n",
       "2  5  5  9  5  8\n",
       "3  8  6  6  7  8\n",
       "4  1  1  7  6  6\n",
       "5  8  9  5  4  5\n",
       "6  8  3  9  5  8"
      ]
     },
     "execution_count": 14,
     "metadata": {},
     "output_type": "execute_result"
    }
   ],
   "source": [
    "ser = pd.Series(np.random.randint(1, 10, 35))\n",
    "pd.DataFrame(ser.values.reshape(7,5))"
   ]
  },
  {
   "cell_type": "markdown",
   "id": "f3dc1ca2",
   "metadata": {},
   "source": [
    "#### 13. Find the positions of numbers that are multiples of 3 from ser"
   ]
  },
  {
   "cell_type": "code",
   "execution_count": 15,
   "id": "a3342c8e",
   "metadata": {},
   "outputs": [
    {
     "name": "stdout",
     "output_type": "stream",
     "text": [
      "0    4\n",
      "1    7\n",
      "2    4\n",
      "3    3\n",
      "4    2\n",
      "5    1\n",
      "6    7\n",
      "dtype: int32\n"
     ]
    },
    {
     "data": {
      "text/plain": [
       "[3]"
      ]
     },
     "execution_count": 15,
     "metadata": {},
     "output_type": "execute_result"
    }
   ],
   "source": [
    "# 1st way\n",
    "ser = pd.Series(np.random.randint(1, 10, 7))\n",
    "print(ser)\n",
    "[i  for i in ser.index if ser[i]%3==0]"
   ]
  },
  {
   "cell_type": "code",
   "execution_count": 16,
   "id": "5cc80fac",
   "metadata": {},
   "outputs": [
    {
     "name": "stdout",
     "output_type": "stream",
     "text": [
      "0    6\n",
      "1    7\n",
      "2    1\n",
      "3    5\n",
      "4    8\n",
      "5    6\n",
      "6    9\n",
      "dtype: int32\n"
     ]
    },
    {
     "data": {
      "text/plain": [
       "(array([0, 5, 6], dtype=int64),)"
      ]
     },
     "execution_count": 16,
     "metadata": {},
     "output_type": "execute_result"
    }
   ],
   "source": [
    "# 2nd way\n",
    "ser = pd.Series(np.random.randint(1, 10, 7))\n",
    "print(ser)\n",
    "np.where(ser%3==0)"
   ]
  },
  {
   "cell_type": "markdown",
   "id": "2ffe5d84",
   "metadata": {},
   "source": [
    "#### 14. From ser, extract the items at positions in list pos"
   ]
  },
  {
   "cell_type": "code",
   "execution_count": 17,
   "id": "dc05dc7c",
   "metadata": {},
   "outputs": [
    {
     "data": {
      "text/plain": [
       "0     a\n",
       "4     e\n",
       "8     i\n",
       "14    o\n",
       "20    u\n",
       "dtype: object"
      ]
     },
     "execution_count": 17,
     "metadata": {},
     "output_type": "execute_result"
    }
   ],
   "source": [
    "ser = pd.Series(list('abcdefghijklmnopqrstuvwxyz'))\n",
    "pos = [0, 4, 8, 14, 20]\n",
    "# 1st way ser.take(pos)\n",
    "np.take(ser,pos) # 2nd way"
   ]
  },
  {
   "cell_type": "markdown",
   "id": "165f374a",
   "metadata": {},
   "source": [
    "#### 15. Stack ser1 and ser2 vertically and horizontally (to form a dataframe)"
   ]
  },
  {
   "cell_type": "code",
   "execution_count": 18,
   "id": "0bc41c6c",
   "metadata": {
    "scrolled": false
   },
   "outputs": [
    {
     "name": "stdout",
     "output_type": "stream",
     "text": [
      "   0\n",
      "0  a\n",
      "1  b\n",
      "2  c\n",
      "3  d\n",
      "4  e\n",
      "   0  1  2  3  4\n",
      "0  a  b  c  d  e\n"
     ]
    }
   ],
   "source": [
    "ser1 = pd.Series(range(5))\n",
    "ser2 = pd.Series(list('abcde'))\n",
    "# print(ser1,ser2,sep='\\n')\n",
    "# print(pd.DataFrame([ser1,ser2],columns=ser1),pd.DataFrame([ser1,ser2],columns=ser1).T,sep='\\n')\n",
    "print(pd.DataFrame(ser2, ser1),pd.DataFrame(ser2,ser1).T,sep='\\n')"
   ]
  },
  {
   "cell_type": "markdown",
   "id": "73a02b35",
   "metadata": {},
   "source": [
    "#### 16. Get the positions of items of ser2 in ser1 as a list"
   ]
  },
  {
   "cell_type": "code",
   "execution_count": 19,
   "id": "49a419f8",
   "metadata": {},
   "outputs": [
    {
     "data": {
      "text/plain": [
       "[5, 4, 0, 8]"
      ]
     },
     "execution_count": 19,
     "metadata": {},
     "output_type": "execute_result"
    }
   ],
   "source": [
    "ser1 = pd.Series([10, 9, 6, 5, 3, 1, 12, 8, 13])\n",
    "ser2 = pd.Series([1, 3, 10, 13])\n",
    "[pd.Index(ser1).get_loc(i) for i in ser2]"
   ]
  },
  {
   "cell_type": "markdown",
   "id": "488052ac",
   "metadata": {},
   "source": [
    "#### 17. Compute the mean squared error of truth and pred series"
   ]
  },
  {
   "cell_type": "code",
   "execution_count": 20,
   "id": "e1cf8282",
   "metadata": {},
   "outputs": [
    {
     "data": {
      "text/plain": [
       "0.5507420866719686"
      ]
     },
     "execution_count": 20,
     "metadata": {},
     "output_type": "execute_result"
    }
   ],
   "source": [
    "from sklearn.metrics import mean_squared_error\n",
    "truth = pd.Series(range(10))\n",
    "pred = pd.Series(range(10)) + np.random.random(10)\n",
    "mean_squared_error(pred, truth)"
   ]
  },
  {
   "cell_type": "markdown",
   "id": "19bc818b",
   "metadata": {},
   "source": [
    "#### 18. Change the first character of each word to upper case in each word of ser"
   ]
  },
  {
   "cell_type": "code",
   "execution_count": 21,
   "id": "94b2cf6a",
   "metadata": {},
   "outputs": [
    {
     "data": {
      "text/plain": [
       "0      How\n",
       "1       To\n",
       "2    Knock\n",
       "3    Down?\n",
       "dtype: object"
      ]
     },
     "execution_count": 21,
     "metadata": {},
     "output_type": "execute_result"
    }
   ],
   "source": [
    "ser = pd.Series(['how', 'to', 'knock', 'down?'])\n",
    "ser.str.capitalize()"
   ]
  },
  {
   "cell_type": "markdown",
   "id": "215b303b",
   "metadata": {},
   "source": [
    "#### 19. Calculate the number of characters in each word in a series"
   ]
  },
  {
   "cell_type": "code",
   "execution_count": 22,
   "id": "b2a3fd9d",
   "metadata": {},
   "outputs": [],
   "source": [
    "ser = pd.Series(['how', 'to', 'knock', 'down?'])"
   ]
  },
  {
   "cell_type": "markdown",
   "id": "c1f7258d",
   "metadata": {},
   "source": [
    "#### 20. Compute difference of differences between consecutive numbers of ser"
   ]
  },
  {
   "cell_type": "code",
   "execution_count": 23,
   "id": "b4243e55",
   "metadata": {},
   "outputs": [
    {
     "data": {
      "text/plain": [
       "0    1\n",
       "1    1\n",
       "2    1\n",
       "3    1\n",
       "4    0\n",
       "5    2\n",
       "dtype: int64"
      ]
     },
     "execution_count": 23,
     "metadata": {},
     "output_type": "execute_result"
    }
   ],
   "source": [
    "# 1st way\n",
    "ser = pd.Series([1, 3, 6, 10, 15, 21, 27, 35])\n",
    "def differences(array):\n",
    "    return pd.Series([array[i]-array[i-1] for i in array.index if(i>=1)])\n",
    "differences(differences(ser))   "
   ]
  },
  {
   "cell_type": "code",
   "execution_count": 24,
   "id": "75413b97",
   "metadata": {},
   "outputs": [
    {
     "data": {
      "text/plain": [
       "2    1.0\n",
       "3    1.0\n",
       "4    1.0\n",
       "5    1.0\n",
       "6    0.0\n",
       "7    2.0\n",
       "dtype: float64"
      ]
     },
     "execution_count": 24,
     "metadata": {},
     "output_type": "execute_result"
    }
   ],
   "source": [
    "# 2nd way\n",
    "ser = pd.Series([1, 3, 6, 10, 15, 21, 27, 35])\n",
    "ser.diff().diff().dropna()"
   ]
  },
  {
   "cell_type": "markdown",
   "id": "88b80eeb",
   "metadata": {},
   "source": [
    "#### 21. Convert a series of date-strings to a timeseries"
   ]
  },
  {
   "cell_type": "code",
   "execution_count": 25,
   "id": "b03e1268",
   "metadata": {},
   "outputs": [
    {
     "data": {
      "text/plain": [
       "0   2010-01-01 00:00:00\n",
       "1   2011-02-02 00:00:00\n",
       "2   2012-03-03 00:00:00\n",
       "3   2013-04-04 00:00:00\n",
       "4   2014-05-05 00:00:00\n",
       "5   2015-06-06 12:20:00\n",
       "dtype: datetime64[ns]"
      ]
     },
     "execution_count": 25,
     "metadata": {},
     "output_type": "execute_result"
    }
   ],
   "source": [
    "ser = pd.Series(['01 Jan 2010', '02-02-2011', '20120303', '2013/04/04', '2014-05-05', '2015-06-06T12:20'])\n",
    "pd.to_datetime(ser)"
   ]
  },
  {
   "cell_type": "markdown",
   "id": "a5801e19",
   "metadata": {},
   "source": [
    "#### 22. Get the day of month, week number, day of year and day of week from ser"
   ]
  },
  {
   "cell_type": "code",
   "execution_count": 26,
   "id": "5a3e2c81",
   "metadata": {},
   "outputs": [
    {
     "data": {
      "text/plain": [
       "0       Friday\n",
       "1    Wednesday\n",
       "2     Saturday\n",
       "3     Thursday\n",
       "4       Monday\n",
       "5     Saturday\n",
       "dtype: object"
      ]
     },
     "execution_count": 26,
     "metadata": {},
     "output_type": "execute_result"
    }
   ],
   "source": [
    "from dateutil.parser import parse\n",
    "ser = pd.Series(['01 Jan 2010', '02-02-2011', '20120303', '2013/04/04', '2014-05-05', '2015-06-06T12:20'])\n",
    "ser = ser.map(lambda x: parse(x))\n",
    "# ser.dt.day\n",
    "# ser.dt.dayofyear\n",
    "# ser.dt.isocalendar().week\n",
    "ser.dt.day_name()"
   ]
  },
  {
   "cell_type": "markdown",
   "id": "03b6a1be",
   "metadata": {},
   "source": [
    "#### 23. Change ser to dates that start with 4th of the respective months"
   ]
  },
  {
   "cell_type": "code",
   "execution_count": 27,
   "id": "a691e096",
   "metadata": {},
   "outputs": [
    {
     "data": {
      "text/plain": [
       "DatetimeIndex(['2010-01-04', '2011-02-04', '2012-03-04'], dtype='datetime64[ns]', freq=None)"
      ]
     },
     "execution_count": 27,
     "metadata": {},
     "output_type": "execute_result"
    }
   ],
   "source": [
    "import datetime\n",
    "ser = pd.Series(['Jan 2010', 'Feb 2011', 'Mar 2012'])\n",
    "times = pd.Index(pd.to_datetime(ser))\n",
    "times += datetime.timedelta(days=3)\n",
    "times"
   ]
  },
  {
   "cell_type": "markdown",
   "id": "30ad5b44",
   "metadata": {},
   "source": [
    "#### 24. From ser, extract words that contain atleast 2 vowels"
   ]
  },
  {
   "cell_type": "code",
   "execution_count": 28,
   "id": "6747ea3e",
   "metadata": {},
   "outputs": [
    {
     "data": {
      "text/plain": [
       "0     Apple\n",
       "1    Orange\n",
       "4     Money\n",
       "dtype: object"
      ]
     },
     "execution_count": 28,
     "metadata": {},
     "output_type": "execute_result"
    }
   ],
   "source": [
    "from collections import Counter \n",
    "ser = pd.Series(['Apple', 'Orange', 'Plan', 'Python', 'Money'])\n",
    "mask = ser.map(lambda x: sum([Counter(x.lower()).get(i, 0) for i in list('aeiou')]) >= 2)\n",
    "ser[mask]"
   ]
  },
  {
   "cell_type": "markdown",
   "id": "dde8bbaf",
   "metadata": {},
   "source": [
    "#### 25. Extract the valid emails from the series emails. The regex pattern for valid emails is provided as reference"
   ]
  },
  {
   "cell_type": "code",
   "execution_count": 29,
   "id": "1e54e3c0",
   "metadata": {},
   "outputs": [
    {
     "data": {
      "text/plain": [
       "1    rameses@egypt.com\n",
       "2            matt@t.co\n",
       "3    narendra@modi.com\n",
       "dtype: object"
      ]
     },
     "execution_count": 29,
     "metadata": {},
     "output_type": "execute_result"
    }
   ],
   "source": [
    "emails = pd.Series(['buying books at amazom.com', 'rameses@egypt.com', 'matt@t.co', 'narendra@modi.com'])\n",
    "pattern ='[A-Za-z0-9._%+-]+@[A-Za-z0-9.-]+\\\\.[A-Za-z]{2,4}'\n",
    "emails[emails.str.match(pattern)]"
   ]
  },
  {
   "cell_type": "markdown",
   "id": "020139af",
   "metadata": {},
   "source": [
    "#### 26. Compute the mean of weights of each fruit"
   ]
  },
  {
   "cell_type": "code",
   "execution_count": 30,
   "id": "cd9a5566",
   "metadata": {},
   "outputs": [
    {
     "data": {
      "text/html": [
       "<div>\n",
       "<style scoped>\n",
       "    .dataframe tbody tr th:only-of-type {\n",
       "        vertical-align: middle;\n",
       "    }\n",
       "\n",
       "    .dataframe tbody tr th {\n",
       "        vertical-align: top;\n",
       "    }\n",
       "\n",
       "    .dataframe thead th {\n",
       "        text-align: right;\n",
       "    }\n",
       "</style>\n",
       "<table border=\"1\" class=\"dataframe\">\n",
       "  <thead>\n",
       "    <tr style=\"text-align: right;\">\n",
       "      <th></th>\n",
       "      <th>apple</th>\n",
       "      <th>banana</th>\n",
       "      <th>carrot</th>\n",
       "    </tr>\n",
       "  </thead>\n",
       "  <tbody>\n",
       "    <tr>\n",
       "      <th>0</th>\n",
       "      <td>8.5</td>\n",
       "      <td>4.714286</td>\n",
       "      <td>5.0</td>\n",
       "    </tr>\n",
       "  </tbody>\n",
       "</table>\n",
       "</div>"
      ],
      "text/plain": [
       "   apple    banana  carrot\n",
       "0    8.5  4.714286     5.0"
      ]
     },
     "execution_count": 30,
     "metadata": {},
     "output_type": "execute_result"
    }
   ],
   "source": [
    "fruit = pd.Series(np.random.choice(['apple', 'banana', 'carrot'], 10))\n",
    "weights = pd.Series(np.linspace(1, 10, 10))\n",
    "df = pd.DataFrame([pd.Index(weights)],columns=fruit)\n",
    "df.groupby(df.columns, axis=1).mean()"
   ]
  },
  {
   "cell_type": "markdown",
   "id": "6609b7ab",
   "metadata": {},
   "source": [
    "#### 27. Compute the euclidean distance between series (points) p and q, without using a packaged formula"
   ]
  },
  {
   "cell_type": "code",
   "execution_count": 31,
   "id": "144c9d27",
   "metadata": {},
   "outputs": [
    {
     "data": {
      "text/plain": [
       "18.16590212458495"
      ]
     },
     "execution_count": 31,
     "metadata": {},
     "output_type": "execute_result"
    }
   ],
   "source": [
    "# 1st way\n",
    "p = pd.Series([1, 2, 3, 4, 5, 6, 7, 8, 9, 10])\n",
    "q = pd.Series([10, 9, 8, 7, 6, 5, 4, 3, 2, 1])\n",
    "np.sqrt((((np.array(q)-np.array(p))**2).sum()))"
   ]
  },
  {
   "cell_type": "code",
   "execution_count": 32,
   "id": "e38eff19",
   "metadata": {},
   "outputs": [
    {
     "data": {
      "text/plain": [
       "18.16590212458495"
      ]
     },
     "execution_count": 32,
     "metadata": {},
     "output_type": "execute_result"
    }
   ],
   "source": [
    "# 2nd way\n",
    "dist = np.sqrt(np.sum([(a-b)*(a-b) for a, b in zip(p, q)]))\n",
    "dist"
   ]
  },
  {
   "cell_type": "code",
   "execution_count": 33,
   "id": "0199b6f6",
   "metadata": {},
   "outputs": [
    {
     "data": {
      "text/plain": [
       "18.16590212458495"
      ]
     },
     "execution_count": 33,
     "metadata": {},
     "output_type": "execute_result"
    }
   ],
   "source": [
    "# 3rd way\n",
    "p1 = np.sum([(a * a) for a in p])\n",
    "p2 = np.sum([(b * b) for b in q])\n",
    "p3 = -1 * np.sum([(2 * a*b) for (a, b) in zip(p, q)])\n",
    "dist = np.sqrt(np.sum(p1 + p2 + p3))\n",
    "dist"
   ]
  },
  {
   "cell_type": "markdown",
   "id": "ccd95860",
   "metadata": {},
   "source": [
    "#### 28. Get the positions of peaks (values surrounded by smaller values on both sides) in ser"
   ]
  },
  {
   "cell_type": "code",
   "execution_count": 34,
   "id": "d3d20a44",
   "metadata": {},
   "outputs": [
    {
     "data": {
      "text/plain": [
       "array([1, 5, 7], dtype=int64)"
      ]
     },
     "execution_count": 34,
     "metadata": {},
     "output_type": "execute_result"
    }
   ],
   "source": [
    "ser = pd.Series([2, 10, 3, 4, 9, 10, 2, 7, 3])\n",
    "dd = np.diff(np.sign(np.diff(ser)))\n",
    "peak_locs = np.where(dd == -2)[0] + 1\n",
    "peak_locs"
   ]
  },
  {
   "cell_type": "markdown",
   "id": "8d9c37d6",
   "metadata": {},
   "source": [
    "#### 29. Replace the spaces in my_str with the least frequent character"
   ]
  },
  {
   "cell_type": "code",
   "execution_count": 35,
   "id": "8f8ecfc9",
   "metadata": {},
   "outputs": [
    {
     "data": {
      "text/plain": [
       "'dbcgdebgabedggade'"
      ]
     },
     "execution_count": 35,
     "metadata": {},
     "output_type": "execute_result"
    }
   ],
   "source": [
    "my_str = 'dbc deb abed gade'\n",
    "ser = pd.Series(list('dbc deb abed gade'))\n",
    "freq = ser.value_counts()\n",
    "least_freq = freq.dropna().index[-1]\n",
    "\"\".join(ser.replace(' ', least_freq))"
   ]
  },
  {
   "cell_type": "markdown",
   "id": "5e644362",
   "metadata": {},
   "source": [
    "#### 30. Create a TimeSeries starting ‘2000-01-01’ and 10 weekends (saturdays) after that having random numbers as values"
   ]
  },
  {
   "cell_type": "code",
   "execution_count": 36,
   "id": "e1f4e7c1",
   "metadata": {},
   "outputs": [
    {
     "data": {
      "text/plain": [
       "2000-01-01    9\n",
       "2000-01-08    2\n",
       "2000-01-15    8\n",
       "2000-01-22    9\n",
       "2000-01-29    9\n",
       "2000-02-05    2\n",
       "2000-02-12    7\n",
       "2000-02-19    3\n",
       "2000-02-26    9\n",
       "2000-03-04    6\n",
       "Freq: W-SAT, dtype: int32"
      ]
     },
     "execution_count": 36,
     "metadata": {},
     "output_type": "execute_result"
    }
   ],
   "source": [
    "ser = pd.Series(np.random.randint(1,10,10), pd.date_range('2000-01-01', periods=10, freq='W-SAT'))\n",
    "ser"
   ]
  }
 ],
 "metadata": {
  "kernelspec": {
   "display_name": "Python 3.9.12 ('base')",
   "language": "python",
   "name": "python3"
  },
  "language_info": {
   "codemirror_mode": {
    "name": "ipython",
    "version": 3
   },
   "file_extension": ".py",
   "mimetype": "text/x-python",
   "name": "python",
   "nbconvert_exporter": "python",
   "pygments_lexer": "ipython3",
   "version": "3.9.12"
  },
  "vscode": {
   "interpreter": {
    "hash": "49cb93f377a7abe7414b7b0f21fb3017538004a126cf690fb524202736b7fb92"
   }
  }
 },
 "nbformat": 4,
 "nbformat_minor": 5
}
